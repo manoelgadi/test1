{
 "cells": [
  {
   "cell_type": "markdown",
   "metadata": {},
   "source": [
    "# Video from Prof. Manoel Gadi explainning the very basic and how to use this material: \n",
    "\n",
    "https://www.youtube.com/watch?v=W_tThGgYwBc\n",
    "\n",
    "## Candlestick patterns: \n",
    "    https://www.ig.com/en/trading-strategies/16-candlestick-patterns-every-trader-should-know-180615\n",
    "\n",
    "## Reference for the Python code below: \n",
    "    https://towardsdev.com/identify-top-performing-japanese-candlestick-patterns-using-python-and-ta-library-ae0889441e56\n",
    "\n",
    "## How to install ta-lib library\n",
    "    conda install -c conda-forge ta-lib\n"
   ]
  },
  {
   "cell_type": "code",
   "execution_count": 7,
   "metadata": {},
   "outputs": [
    {
     "name": "stdout",
     "output_type": "stream",
     "text": [
      "[*********************100%***********************]  1 of 1 completed\n"
     ]
    }
   ],
   "source": [
    "import talib\n",
    "import yfinance as yf\n",
    "from datetime import date\n",
    "\n",
    "today = date.today().strftime(\"%Y-%m-%d\")\n",
    "stockticker = 'BTC-USD'\n",
    "dataframe = yf.download(stockticker, start='2021-03-31', end=today)\n",
    "\n",
    "open = dataframe['Open']\n",
    "high = dataframe['High']\n",
    "low = dataframe['Low']\n",
    "close = dataframe['Adj Close']\n",
    "\n",
    "threeLineStrike = talib.CDL3LINESTRIKE(open,high,low,close)\n",
    "threeBlackCrow = talib.CDL3BLACKCROWS(open,high,low,close)\n",
    "eveningStar = talib.CDLEVENINGSTAR(open,high,low,close)\n",
    "engulfing = talib.CDLENGULFING(open,high,low,close)\n",
    "dragonflyDoji = talib.CDLDRAGONFLYDOJI(open,high,low,close)\n",
    "gravestoneDoji = talib.CDLGRAVESTONEDOJI(open,high,low,close)\n",
    "tasukigap = talib.CDLTASUKIGAP(open,high,low,close)\n",
    "hammer = talib.CDLHAMMER(open,high,low,close)\n",
    "darkCloudCover = talib.CDLDARKCLOUDCOVER(open,high,low,close)\n",
    "piercingLine = talib.CDLPIERCING(open,high,low,close)"
   ]
  },
  {
   "cell_type": "code",
   "execution_count": 8,
   "metadata": {},
   "outputs": [],
   "source": [
    "dataframe['3 Line Strike'] = threeLineStrike\n",
    "dataframe['3 Black Crow'] = threeBlackCrow\n",
    "dataframe['Evening Star'] = eveningStar\n",
    "dataframe['Engulfing'] = engulfing\n",
    "dataframe['Dragonfly Doji'] = dragonflyDoji\n",
    "dataframe['Gravestone Doji'] = gravestoneDoji\n",
    "dataframe['Tasuki Gap'] = tasukigap\n",
    "dataframe['Hammer'] = hammer\n",
    "dataframe['DarkCloudCover'] = darkCloudCover\n",
    "dataframe['Piercing Line'] = piercingLine\n"
   ]
  },
  {
   "cell_type": "code",
   "execution_count": 9,
   "metadata": {},
   "outputs": [],
   "source": [
    "topCandles = [\"3 Line Strike\",\"3 Black Crow\",\"Evening Star\",\"Engulfing\",\"Dragonfly Doji\",\"Gravestone Doji\",\"Tasuki Gap\",\"Hammer\",\"DarkCloudCover\",\"Piercing Line\"]"
   ]
  },
  {
   "cell_type": "code",
   "execution_count": 10,
   "metadata": {},
   "outputs": [],
   "source": [
    "for x in dataframe.index:\n",
    "    for cd in topCandles:\n",
    "        if dataframe.loc[x, cd] == -100:\n",
    "            dataframe.loc[x, cd] = \"Bearish\"\n",
    "        if dataframe.loc[x, cd] == 100:\n",
    "            dataframe.loc[x, cd] = \"Bullish\""
   ]
  },
  {
   "cell_type": "code",
   "execution_count": 11,
   "metadata": {},
   "outputs": [],
   "source": [
    "dataframe.to_csv(\"dataf.csv\")"
   ]
  },
  {
   "cell_type": "code",
   "execution_count": 12,
   "metadata": {},
   "outputs": [
    {
     "data": {
      "text/plain": [
       "'go_candle1.html'"
      ]
     },
     "execution_count": 12,
     "metadata": {},
     "output_type": "execute_result"
    }
   ],
   "source": [
    "from plotly.offline import plot\n",
    "import plotly.graph_objs as go\n",
    "import pandas as pd\n",
    "\n",
    "df = pd.read_csv('dataf.csv')\n",
    "\n",
    "o = df['Open'].astype(float)\n",
    "h = df['High'].astype(float)\n",
    "l = df['Low'].astype(float)\n",
    "c = df['Close'].astype(float)\n",
    "\n",
    "trace = go.Candlestick(\n",
    "            open=o,\n",
    "            high=h,\n",
    "            low=l,\n",
    "            close=c)\n",
    "data = [trace]\n",
    "\n",
    "plot(data, filename='go_candle1.html')"
   ]
  },
  {
   "cell_type": "code",
   "execution_count": null,
   "metadata": {},
   "outputs": [],
   "source": []
  }
 ],
 "metadata": {
  "kernelspec": {
   "display_name": "Python 3 (ipykernel)",
   "language": "python",
   "name": "python3"
  },
  "language_info": {
   "codemirror_mode": {
    "name": "ipython",
    "version": 3
   },
   "file_extension": ".py",
   "mimetype": "text/x-python",
   "name": "python",
   "nbconvert_exporter": "python",
   "pygments_lexer": "ipython3",
   "version": "3.9.12"
  }
 },
 "nbformat": 4,
 "nbformat_minor": 2
}
